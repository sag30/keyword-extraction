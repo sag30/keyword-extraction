{
  "cells": [
    {
      "cell_type": "markdown",
      "metadata": {
        "colab_type": "text",
        "id": "view-in-github"
      },
      "source": [
        "<a href=\"https://colab.research.google.com/github/sag30/keyword-extraction/blob/main/Keyword_Extraction_using_KeyBert_and_yake.ipynb\" target=\"_parent\"><img src=\"https://colab.research.google.com/assets/colab-badge.svg\" alt=\"Open In Colab\"/></a>"
      ]
    },
    {
      "cell_type": "markdown",
      "metadata": {},
      "source": [
        "#Load Libraries"
      ]
    },
    {
      "cell_type": "code",
      "execution_count": null,
      "metadata": {
        "colab": {
          "base_uri": "https://localhost:8080/"
        },
        "id": "gWn8dm04I_3L",
        "outputId": "ef01accf-9735-4ef0-b95b-94e59ca69cbd"
      },
      "outputs": [],
      "source": [
        "!pip install transformers\n",
        "!pip install keybert\n",
        "!pip install yake"
      ]
    },
    {
      "cell_type": "code",
      "execution_count": null,
      "metadata": {
        "id": "nIfrNotBJAud"
      },
      "outputs": [],
      "source": [
        "import pandas as pd"
      ]
    },
    {
      "cell_type": "markdown",
      "metadata": {},
      "source": [
        "#Load Data from Excel file"
      ]
    },
    {
      "cell_type": "code",
      "execution_count": null,
      "metadata": {
        "colab": {
          "base_uri": "https://localhost:8080/"
        },
        "id": "e6rki4mPcG8W",
        "outputId": "61d5e042-57bd-4a83-86b7-4d939da41d71"
      },
      "outputs": [
        {
          "data": {
            "text/plain": [
              "(50, 9)"
            ]
          },
          "execution_count": 14,
          "metadata": {},
          "output_type": "execute_result"
        }
      ],
      "source": [
        "df = pd.read_excel('/content/Last3LinesSummary.xlsx')\n",
        "df.shape"
      ]
    },
    {
      "cell_type": "code",
      "execution_count": null,
      "metadata": {
        "colab": {
          "base_uri": "https://localhost:8080/"
        },
        "id": "bIYVk1-ZpD7s",
        "outputId": "14a2289e-9201-4cf5-fd69-45044883c581"
      },
      "outputs": [
        {
          "name": "stdout",
          "output_type": "stream",
          "text": [
            "697\n",
            "644\n"
          ]
        }
      ],
      "source": [
        "seed_keywords=[\n",
        "          \"can't login\",\n",
        "          \"get extension\",\n",
        "          \"much cost\",\n",
        "          \"box noise\",\n",
        "          \"late charge\",\n",
        "          \"my bill\",\n",
        "          \"fix internet\",\n",
        "          \"Disconnect service\"\n",
        "          \"still connected\"\n",
        "                ]\n",
        "print(len(seed_keywords))\n",
        "#Take unique keywords\n",
        "seed_keywords = list(set(seed_keywords))\n",
        "print(len(seed_keywords))"
      ]
    },
    {
      "cell_type": "markdown",
      "metadata": {},
      "source": [
        "#Test keyword extraction in a single sentence using Keybert"
      ]
    },
    {
      "cell_type": "code",
      "execution_count": null,
      "metadata": {
        "colab": {
          "base_uri": "https://localhost:8080/"
        },
        "id": "h7Pie-CAd5rG",
        "outputId": "535fb548-5986-44d7-d95d-ff04ba9164c9"
      },
      "outputs": [
        {
          "name": "stdout",
          "output_type": "stream",
          "text": [
            "this will be automatically reversed back to the original payment method\n"
          ]
        }
      ],
      "source": [
        "# text = \"['thank you for chatting frontier.', 'this is loue.', 'who am i speaking with please?', 'hi amanda good morning!', 'i hope you and your family are safe especially this time.', 'thank you for bringing this to our attentionreaching us about this matter.', 'a sudden increase on my bill would definitely concern me too.', 'it’s great to know that you are fine and safe.', 'i am doing fine too.', 'lets go ahead and check whats different.', 'you are talking to the best representative and i will make sure that this will be your last time chatting with a rep regarding this matter.', 'i am here to help.', 'before we begin just in case we get delays of our chat', 'know that im here working for your concern.', 'just please stay on the same page to ensure that we wont get disconnected.', 'to get started allow me to pull up your account.', 'can i have the billing telephone number associated with the account?', 'for security purposes can you verify the 5digit passcode.', 'thats alright.', 'here is an easier step to locate your 5 digit passcode 1.', 'please log in to your online account 2.', 'go to &#34my', 'profile&#34 tab and 3.', 'from under that tab you can see &#34show passcode&#34 or get a new passcode.', 'here is a much more convenient way to find your 5digit account passcode you can go to httpsfrontier.comhelpcentercategoriesaccountmanagemyaccountcreatechangeaccountpasscode then login to your account and follow the instruction on that page how you can create or change your passcode.', 'i now have the account pulled up.', 'let me check the account for a minute or two hold on.', 'thank you for patiently waiting.', 'based on the records the only thing thats caused an increase in your monthly rate charge for your fios internet is the expiration of its promotional price.', 'the $10 savings you enjoyed from the time you availed that promotion is valid until 22022.', 'i really wanted to give you an extended promotions for you to keep your amount what i can do is to process you', 'a one time courtesy credit of $10 for your current bill as an appreciation for your being good credit standing customer.', 'and to extend my help i will take $3 of your bill for three months', 'but i know how this affecting your experience them i will make it for 6 months.', 'you re awesome!', 'aside from this are there any other concerns that needs to be addressed?', 'please know that frontier cares for you and that is why i am here.', 'thats how frontier cares. )', 'hold on please while ill make sure to apply the $10 off from your current bill and the $3 monthly credit for you then.', 'hold on please.', 'thank you for patiently waiting.', 'to recap youve chatted about bill increase.', 'as a resolution the $11.32 adjustment request has been approved and will be posted immediately to your account.', 'and to extend my help i will take $3 of your bill for three months', 'but i know how this affecting your experience them i will make it for 6 months starting next billing cycle.', 'the order number is 062426676.', 'i really enjoyed our conversation and this is what i needed to get me through today.', 'all thanks to you.', 'i thank you again for everything today.', 'have i resolved the reason of our chat today amanda?', 'you are most welcome.', 'before you go if you don’t mind me asking', 'how’s your experience with frontier so far?', 'yes you are right.', 'no worries i will leave comprehensive notes on your account so that if it becomes available any time soon you’ll be notified right away.', 'will that be fine?', 'thanks for the wonderful feedback!', 'i hope you will spare a few minutes to answer a quick survey right after this chat', 'should you want to leave a feedback on how i assisted you today.', 'i will truly appreciate it.', 'when you exit this chat kindly click the 3bar icon and choose end.']\"\n",
        "# text = df['recap or last 3 sentences'][13]\n",
        "# text = \"thank you for chatting frontier. this is loue. who am i speaking with please? hi amanda good morning! i hope you and your family are safe especially this time. thank you for bringing this to our attentionreaching us about this matter. a sudden increase on my bill would definitely concern me too. it’s great to know that you are fine and safe. i am doing fine too. lets go ahead and check whats different. you are talking to the best representative and i will make sure that this will be your last time chatting with a rep regarding this matter. i am here to help. before we begin just in case we get delays of our chat know that im here working for your concern. just please stay on the same page to ensure that we wont get disconnected. to get started allow me to pull up your account. can i have the billing telephone number associated with the account? for security purposes can you verify the 5digit passcode. thats alright. here is an easier step to locate your 5 digit passcode 1. please log in to your online account 2. go to &#34my profile&#34 tab and 3. from under that tab you can see &#34show passcode&#34 or get a new passcode. here is a much more convenient way to find your 5digit account passcode you can go to httpsfrontier.comhelpcentercategoriesaccountmanagemyaccountcreatechangeaccountpasscode then login to your account and follow the instruction on that page how you can create or change your passcode. i now have the account pulled up. let me check the account for a minute or two hold on. thank you for patiently waiting. based on the records the only thing thats caused an increase in your monthly rate charge for your fios internet is the expiration of its promotional price. the $10 savings you enjoyed from the time you availed that promotion is valid until 22022. i really wanted to give you an extended promotions for you to keep your amount what i can do is to process you a one time courtesy credit of $10 for your current bill as an appreciation for your being good credit standing customer. and to extend my help i will take $3 of your bill for three months but i know how this affecting your experience them i will make it for 6 months. you re awesome! aside from this are there any other concerns that needs to be addressed? please know that frontier cares for you and that is why i am here. thats how frontier cares. ) hold on please while ill make sure to apply the $10 off from your current bill and the $3 monthly credit for you then. hold on please. thank you for patiently waiting. to recap youve chatted about bill increase. as a resolution the $11.32 adjustment request has been approved and will be posted immediately to your account. and to extend my help i will take $3 of your bill for three months but i know how this affecting your experience them i will make it for 6 months starting next billing cycle. the order number is 062426676. i really enjoyed our conversation and this is what i needed to get me through today. all thanks to you. i thank you again for everything today. have i resolved the reason of our chat today amanda? you are most welcome. before you go if you don’t mind me asking how’s your experience with frontier so far? yes you are right. no worries i will leave comprehensive notes on your account so that if it becomes available any time soon you’ll be notified right away. will that be fine? thanks for the wonderful feedback! i hope you will spare a few minutes to answer a quick survey right after this chat should you want to leave a feedback on how i assisted you today. i will truly appreciate it. when you exit this chat kindly click the 3bar icon and choose end.\"\n",
        "# text = \"based on the records the only thing thats caused an increase in your monthly rate charge for your fios internet is the expiration of its promotional price. i really wanted to give you an extended promotions for you to keep your amount what i can do is to process you a one time courtesy credit of $10 for your current bill as an appreciation for your being good credit standing customer. i will take $3 of your bill for three months but i know how this affecting your experience them i will make it for 6\"\n",
        "# text = \"i will take $3 of your bill for three months but i know how this affecting your experience. i will process you a one time courtesy credit of $10 for your current bill. i will make it for 6 months but i know how this affecting your experience.\"\n",
        "text = \"this will be automatically reversed back to the original payment method\"\n",
        "print(text)"
      ]
    },
    {
      "cell_type": "code",
      "execution_count": null,
      "metadata": {
        "id": "zKeaNSRCcUiu"
      },
      "outputs": [],
      "source": [
        "# Get Unigrams using Keybert\n",
        "from keybert import KeyBERT\n",
        "def keyword_extraction_uni(text):\n",
        " extracted_keywords = KeyBERT().extract_keywords(text, keyphrase_ngram_range=(1, 1), stop_words='english', \n",
        "                              use_mmr=False, diversity=0.85,top_n=10, seed_keywords=seed_keywords)\n",
        " print(extracted_keywords)\n",
        "  \n",
        "#OR\n",
        "kw_model = KeyBERT(model=\"distilbert-base-nli-mean-tokens\")\n",
        "def keyword_extraction_uni(text):\n",
        "    a=kw_model.extract_keywords(text, keyphrase_ngram_range=(1,1), stop_words='english',\n",
        "                                    top_n=10 ,use_mmr=True, diversity=0.9, seed_keywords=seed_keywords)\n",
        "    print(extracted_keywords)"
      ]
    },
    {
      "cell_type": "code",
      "execution_count": null,
      "metadata": {
        "id": "-DjzMPdBhPCl"
      },
      "outputs": [],
      "source": [
        "# Get Bigrams using Keybert\n",
        "from keybert import KeyBERT\n",
        "def keyword_extraction_bi(text,top_n):\n",
        " extracted_keywords = KeyBERT().extract_keywords(text, keyphrase_ngram_range=(2, 2), stop_words='english', \n",
        "                              use_mmr=False, diversity=0.55,top_n=top_n,seed_keywords=seed_keywords)\n",
        " return(extracted_keywords)\n",
        "  "
      ]
    },
    {
      "cell_type": "code",
      "execution_count": null,
      "metadata": {
        "id": "TznfmUCbhYvf"
      },
      "outputs": [],
      "source": [
        "# Get Trigrams using Keybert\n",
        "from keybert import KeyBERT\n",
        "def keyword_extraction_tri(text):\n",
        " extracted_keywords = KeyBERT().extract_keywords(text, keyphrase_ngram_range=(3, 3), stop_words='english', \n",
        "                              use_mmr=False, diversity=0.35,top_n=10,seed_keywords = seed_keywords)\n",
        " print(extracted_keywords)\n",
        "  "
      ]
    },
    {
      "cell_type": "code",
      "execution_count": null,
      "metadata": {},
      "outputs": [],
      "source": [
        "keyword_extraction_uni(text)\n",
        "keyword_extraction_bi(text)\n",
        "keyword_extraction_tri(text)"
      ]
    },
    {
      "cell_type": "markdown",
      "metadata": {},
      "source": [
        "#Run Keyword extraction on all data of a column"
      ]
    },
    {
      "cell_type": "code",
      "execution_count": null,
      "metadata": {
        "id": "QF0TzStaWQGO"
      },
      "outputs": [],
      "source": [
        "df['best keyword'] = df['S2T Summary_New'].apply(lambda x:keyword_extraction_bi(x,5))\n",
        "#df['Top_5_keywords_from_Squad2_Answer']=df['Squad2_Answer'].apply(lambda x:keyword_extraction_bi(x,5))"
      ]
    },
    {
      "cell_type": "code",
      "execution_count": null,
      "metadata": {
        "colab": {
          "base_uri": "https://localhost:8080/"
        },
        "id": "YaMi4Lf9J4EW",
        "outputId": "5c853319-65b6-44a6-9d6a-64d15133d5f5"
      },
      "outputs": [
        {
          "data": {
            "text/plain": [
              "0    [(review orderus57892209service, 0.5144), (ord...\n",
              "1    [(account number, 0.5178), (provide account, 0...\n",
              "2    [(18009218101 chatdue, 0.4909), (disconnect ch...\n",
              "3    [(account active, 0.52), (seeing account, 0.41...\n",
              "4     [(chat billing, 0.7968), (transfer chat, 0.674)]\n",
              "Name: best keyword, dtype: object"
            ]
          },
          "execution_count": 19,
          "metadata": {},
          "output_type": "execute_result"
        }
      ],
      "source": [
        "df['best keyword'].head()"
      ]
    },
    {
      "cell_type": "markdown",
      "metadata": {},
      "source": [
        "##Keyword Extraction using YAKE"
      ]
    },
    {
      "cell_type": "code",
      "execution_count": null,
      "metadata": {
        "colab": {
          "base_uri": "https://localhost:8080/"
        },
        "id": "7ze28Qk7rjZi",
        "outputId": "485c30ce-1068-4703-eb9a-8aba6c784d83"
      },
      "outputs": [
        {
          "name": "stdout",
          "output_type": "stream",
          "text": [
            "('affecting your experience', 0.030783291851401037)\n",
            "('bill', 0.14870058611353912)\n",
            "('months', 0.16324643844244072)\n"
          ]
        }
      ],
      "source": [
        "import yake\n",
        "kw_extractor = yake.KeywordExtractor()\n",
        "# text = \n",
        "#text = \"\"\"spaCy is an open-source software library for advanced natural language processing, written in the programming languages Python and Cython. The library is published under the MIT license and its main developers are Matthew Honnibal and Ines Montani, the founders of the software company Explosion.\"\"\"\n",
        "language = \"en\"\n",
        "max_ngram_size = 3\n",
        "deduplication_threshold = 0.1\n",
        "numOfKeywords = 50\n",
        "custom_kw_extractor = yake.KeywordExtractor(lan=language, n=max_ngram_size, dedupLim=deduplication_threshold, top=numOfKeywords, features=None)\n",
        "keywords = custom_kw_extractor.extract_keywords(text)\n",
        "for kw in keywords:\n",
        "    print(kw)"
      ]
    },
    {
      "cell_type": "code",
      "execution_count": null,
      "metadata": {
        "id": "tyKNSoh_RBHF"
      },
      "outputs": [],
      "source": [
        "df['ChatID']=df['ChatID'].astype('str')\n",
        "df['PersonID']=df['PersonID'].astype('str')"
      ]
    },
    {
      "cell_type": "code",
      "execution_count": null,
      "metadata": {
        "id": "bRQO9UWb5iqs"
      },
      "outputs": [],
      "source": [
        "df.to_excel('/content/SummaryKeyWordsSquad.xlsx')"
      ]
    }
  ],
  "metadata": {
    "colab": {
      "collapsed_sections": [],
      "include_colab_link": true,
      "name": "Keyword Extraction using KeyBert and yake",
      "provenance": []
    },
    "kernelspec": {
      "display_name": "Python 3",
      "name": "python3"
    },
    "language_info": {
      "name": "python"
    }
  },
  "nbformat": 4,
  "nbformat_minor": 0
}
